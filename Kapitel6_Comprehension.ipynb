{
 "metadata": {
  "language_info": {
   "codemirror_mode": {
    "name": "ipython",
    "version": 3
   },
   "file_extension": ".py",
   "mimetype": "text/x-python",
   "name": "python",
   "nbconvert_exporter": "python",
   "pygments_lexer": "ipython3",
   "version": "3.8.4-final"
  },
  "orig_nbformat": 2,
  "kernelspec": {
   "name": "python_defaultSpec_1600858402190",
   "display_name": "Python 3.8.4 64-bit"
  }
 },
 "nbformat": 4,
 "nbformat_minor": 2,
 "cells": [
  {
   "cell_type": "code",
   "execution_count": 5,
   "metadata": {},
   "outputs": [],
   "source": [
    "def collatz(x):\n",
    "    l = list()\n",
    "    while x > 1:\n",
    "        l = l + [x]\n",
    "        if x % 2 == 0:\n",
    "            x = x // 2\n",
    "            continue\n",
    "        else:\n",
    "            x = 3*x + 1\n",
    "            continue\n",
    "    l = l + [1]\n",
    "    return l"
   ]
  },
  {
   "cell_type": "code",
   "execution_count": 14,
   "metadata": {},
   "outputs": [],
   "source": [
    "def is_even(n):\n",
    "    return n % 2 == 0"
   ]
  },
  {
   "cell_type": "code",
   "execution_count": 20,
   "metadata": {
    "tags": []
   },
   "outputs": [
    {
     "output_type": "execute_result",
     "data": {
      "text/plain": "[30, 46, 70, 106, 160, 80, 40, 20, 10, 16, 8, 4, 2]"
     },
     "metadata": {},
     "execution_count": 20
    }
   ],
   "source": [
    "list(filter(is_even, collatz(30)))"
   ]
  },
  {
   "cell_type": "code",
   "execution_count": 45,
   "metadata": {},
   "outputs": [
    {
     "output_type": "execute_result",
     "data": {
      "text/plain": "[556, 628, 472, 236, 268, 304, 152, 76, 88, 44, 52, 40, 20, 16, 8, 4]"
     },
     "metadata": {},
     "execution_count": 45
    }
   ],
   "source": [
    "[x for x in collatz(123) if x%4==0]"
   ]
  },
  {
   "cell_type": "code",
   "execution_count": null,
   "metadata": {},
   "outputs": [],
   "source": []
  }
 ]
}