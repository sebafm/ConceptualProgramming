{
 "cells": [
  {
   "cell_type": "code",
   "execution_count": 7,
   "metadata": {},
   "outputs": [],
   "source": [
    "def euclid(x, y):\n",
    "    while x != y:\n",
    "        if x > y:\n",
    "            x -= y\n",
    "  #          print(\"x=\", x)\n",
    "        else:\n",
    "            y -= x\n",
    "  #          print(\"y=\", y)\n",
    "    return x"
   ]
  },
  {
   "cell_type": "code",
   "execution_count": 4,
   "metadata": {
    "tags": []
   },
   "outputs": [
    {
     "output_type": "stream",
     "name": "stdout",
     "text": "x= 106\ny= 23\nx= 83\nx= 60\nx= 37\nx= 14\ny= 9\nx= 5\ny= 4\nx= 1\ny= 3\ny= 2\ny= 1\n"
    },
    {
     "output_type": "execute_result",
     "data": {
      "text/plain": "1"
     },
     "metadata": {},
     "execution_count": 4
    }
   ],
   "source": [
    "euclid(235, 129)"
   ]
  },
  {
   "cell_type": "code",
   "execution_count": 5,
   "metadata": {
    "tags": []
   },
   "outputs": [
    {
     "output_type": "stream",
     "name": "stdout",
     "text": "x= 8\ny= 10\ny= 2\nx= 6\nx= 4\nx= 2\n"
    },
    {
     "output_type": "execute_result",
     "data": {
      "text/plain": "2"
     },
     "metadata": {},
     "execution_count": 5
    }
   ],
   "source": [
    "euclid(26, 18)"
   ]
  },
  {
   "cell_type": "code",
   "execution_count": 6,
   "metadata": {
    "tags": []
   },
   "outputs": [
    {
     "output_type": "stream",
     "name": "stdout",
     "text": "y= 21\nx= 28\nx= 7\ny= 14\ny= 7\n"
    },
    {
     "output_type": "execute_result",
     "data": {
      "text/plain": "7"
     },
     "metadata": {},
     "execution_count": 6
    }
   ],
   "source": [
    "euclid(49, 70)"
   ]
  },
  {
   "cell_type": "code",
   "execution_count": 35,
   "metadata": {},
   "outputs": [
    {
     "output_type": "execute_result",
     "data": {
      "text/plain": "58"
     },
     "metadata": {},
     "execution_count": 35
    }
   ],
   "source": [
    "euclid(174, 986)"
   ]
  },
  {
   "cell_type": "code",
   "execution_count": 43,
   "metadata": {},
   "outputs": [],
   "source": [
    "def collatz(x):\n",
    "    while x != 1:\n",
    "        print (x, end=\",\")\n",
    "        if (x % 2 == 0):\n",
    "            x = x // 2\n",
    "        else:\n",
    "            x = x*3 + 1\n",
    "    return x"
   ]
  },
  {
   "cell_type": "code",
   "execution_count": 50,
   "metadata": {
    "tags": []
   },
   "outputs": [
    {
     "output_type": "stream",
     "name": "stdout",
     "text": "97,292,146,73,220,110,55,166,83,250,125,376,188,94,47,142,71,214,107,322,161,484,242,121,364,182,91,274,137,412,206,103,310,155,466,233,700,350,175,526,263,790,395,1186,593,1780,890,445,1336,668,334,167,502,251,754,377,1132,566,283,850,425,1276,638,319,958,479,1438,719,2158,1079,3238,1619,4858,2429,7288,3644,1822,911,2734,1367,4102,2051,6154,3077,9232,4616,2308,1154,577,1732,866,433,1300,650,325,976,488,244,122,61,184,92,46,23,70,35,106,53,160,80,40,20,10,5,16,8,4,2,"
    },
    {
     "output_type": "execute_result",
     "data": {
      "text/plain": "1"
     },
     "metadata": {},
     "execution_count": 50
    }
   ],
   "source": [
    "collatz(97)"
   ]
  },
  {
   "cell_type": "code",
   "execution_count": 56,
   "metadata": {},
   "outputs": [],
   "source": [
    "lst = [0,1,2,3,4,5,6,7,8,9]"
   ]
  },
  {
   "cell_type": "code",
   "execution_count": 52,
   "metadata": {},
   "outputs": [],
   "source": [
    "def sum (lst):\n",
    "    s = 0\n",
    "    while lst != []:\n",
    "        s += lst[0]\n",
    "        lst = lst[1:]\n",
    "    return s"
   ]
  },
  {
   "cell_type": "code",
   "execution_count": 57,
   "metadata": {},
   "outputs": [
    {
     "output_type": "execute_result",
     "data": {
      "text/plain": "45"
     },
     "metadata": {},
     "execution_count": 57
    }
   ],
   "source": [
    "sum (lst)"
   ]
  },
  {
   "cell_type": "code",
   "execution_count": 68,
   "metadata": {},
   "outputs": [],
   "source": [
    "def sum(lst):\n",
    "    s = 0\n",
    "    for i in range (len(lst)):\n",
    "        s += lst[i]\n",
    "    return s"
   ]
  },
  {
   "cell_type": "code",
   "execution_count": 59,
   "metadata": {},
   "outputs": [
    {
     "output_type": "execute_result",
     "data": {
      "text/plain": "45"
     },
     "metadata": {},
     "execution_count": 59
    }
   ],
   "source": [
    "sumFor(lst)"
   ]
  },
  {
   "cell_type": "code",
   "execution_count": 62,
   "metadata": {
    "tags": []
   },
   "outputs": [
    {
     "output_type": "stream",
     "name": "stdout",
     "text": "n \t| n**2\n1 \t| 1\n2 \t| 4\n3 \t| 9\n4 \t| 16\n5 \t| 25\n6 \t| 36\n7 \t| 49\n8 \t| 64\n9 \t| 81\n10 \t| 100\n11 \t| 121\n12 \t| 144\n13 \t| 169\n14 \t| 196\n15 \t| 225\n16 \t| 256\n17 \t| 289\n18 \t| 324\n19 \t| 361\n20 \t| 400\n21 \t| 441\n22 \t| 484\n23 \t| 529\n24 \t| 576\n25 \t| 625\n26 \t| 676\n27 \t| 729\n28 \t| 784\n29 \t| 841\n30 \t| 900\n31 \t| 961\n32 \t| 1024\n33 \t| 1089\n34 \t| 1156\n35 \t| 1225\n36 \t| 1296\n37 \t| 1369\n38 \t| 1444\n39 \t| 1521\n40 \t| 1600\n41 \t| 1681\n42 \t| 1764\n43 \t| 1849\n44 \t| 1936\n45 \t| 2025\n46 \t| 2116\n47 \t| 2209\n48 \t| 2304\n49 \t| 2401\n50 \t| 2500\n51 \t| 2601\n52 \t| 2704\n53 \t| 2809\n54 \t| 2916\n55 \t| 3025\n56 \t| 3136\n57 \t| 3249\n58 \t| 3364\n59 \t| 3481\n60 \t| 3600\n61 \t| 3721\n62 \t| 3844\n63 \t| 3969\n64 \t| 4096\n65 \t| 4225\n66 \t| 4356\n67 \t| 4489\n68 \t| 4624\n69 \t| 4761\n70 \t| 4900\n71 \t| 5041\n72 \t| 5184\n73 \t| 5329\n74 \t| 5476\n75 \t| 5625\n76 \t| 5776\n77 \t| 5929\n78 \t| 6084\n79 \t| 6241\n80 \t| 6400\n81 \t| 6561\n82 \t| 6724\n83 \t| 6889\n84 \t| 7056\n85 \t| 7225\n86 \t| 7396\n87 \t| 7569\n88 \t| 7744\n89 \t| 7921\n90 \t| 8100\n91 \t| 8281\n92 \t| 8464\n93 \t| 8649\n94 \t| 8836\n95 \t| 9025\n96 \t| 9216\n97 \t| 9409\n98 \t| 9604\n99 \t| 9801\n"
    }
   ],
   "source": [
    "print(\"n \\t| n**2\")\n",
    "for i in range(1, 100):\n",
    "    print (\"{} \\t| {}\".format(i, i**2))"
   ]
  },
  {
   "cell_type": "code",
   "execution_count": 63,
   "metadata": {},
   "outputs": [
    {
     "output_type": "execute_result",
     "data": {
      "text/plain": "range"
     },
     "metadata": {},
     "execution_count": 63
    }
   ],
   "source": [
    "type(range(1,5))"
   ]
  },
  {
   "cell_type": "code",
   "execution_count": 64,
   "metadata": {},
   "outputs": [
    {
     "output_type": "execute_result",
     "data": {
      "text/plain": "[1, 2, 3, 4]"
     },
     "metadata": {},
     "execution_count": 64
    }
   ],
   "source": [
    "list(range(1,5))"
   ]
  },
  {
   "cell_type": "code",
   "execution_count": 65,
   "metadata": {},
   "outputs": [
    {
     "output_type": "error",
     "ename": "TypeError",
     "evalue": "sum() missing 1 required positional argument: 'lst'",
     "traceback": [
      "\u001b[0;31m---------------------------------------------------------------------------\u001b[0m",
      "\u001b[0;31mTypeError\u001b[0m                                 Traceback (most recent call last)",
      "\u001b[0;32m<ipython-input-65-217cace8f485>\u001b[0m in \u001b[0;36m<module>\u001b[0;34m\u001b[0m\n\u001b[0;32m----> 1\u001b[0;31m \u001b[0msum\u001b[0m\u001b[0;34m(\u001b[0m\u001b[0;34m)\u001b[0m\u001b[0;34m\u001b[0m\u001b[0;34m\u001b[0m\u001b[0m\n\u001b[0m",
      "\u001b[0;31mTypeError\u001b[0m: sum() missing 1 required positional argument: 'lst'"
     ]
    }
   ],
   "source": [
    "sum()"
   ]
  },
  {
   "cell_type": "code",
   "execution_count": 70,
   "metadata": {},
   "outputs": [
    {
     "output_type": "execute_result",
     "data": {
      "text/plain": "10"
     },
     "metadata": {},
     "execution_count": 70
    }
   ],
   "source": [
    "sum(list(range(1,5)))"
   ]
  },
  {
   "cell_type": "code",
   "execution_count": 71,
   "metadata": {},
   "outputs": [],
   "source": [
    "def gauss(n):\n",
    "    return n * (n+1) // 2"
   ]
  },
  {
   "cell_type": "code",
   "execution_count": 72,
   "metadata": {},
   "outputs": [
    {
     "output_type": "execute_result",
     "data": {
      "text/plain": "5050"
     },
     "metadata": {},
     "execution_count": 72
    }
   ],
   "source": [
    "gauss(100)"
   ]
  },
  {
   "cell_type": "code",
   "execution_count": 73,
   "metadata": {},
   "outputs": [],
   "source": [
    "def rev(lst):\n",
    "    tsl = []\n",
    "    for i in lst:\n",
    "        tsl = [i] + tsl\n",
    "    return tsl"
   ]
  },
  {
   "cell_type": "code",
   "execution_count": 76,
   "metadata": {},
   "outputs": [
    {
     "output_type": "execute_result",
     "data": {
      "text/plain": "[9, 8, 7, 6, 5, 4, 3, 2, 1, 0]"
     },
     "metadata": {},
     "execution_count": 76
    }
   ],
   "source": [
    "rev(list(range(0,10)))"
   ]
  },
  {
   "cell_type": "code",
   "execution_count": 114,
   "metadata": {},
   "outputs": [],
   "source": [
    "def revS(str):\n",
    "    global me\n",
    "    em = ''\n",
    "    for i in str:\n",
    "        em = i + em\n",
    "    me = em"
   ]
  },
  {
   "cell_type": "code",
   "execution_count": 115,
   "metadata": {},
   "outputs": [],
   "source": [
    "me = 'Thorsten'"
   ]
  },
  {
   "cell_type": "code",
   "execution_count": 116,
   "metadata": {},
   "outputs": [],
   "source": [
    "revS(me)"
   ]
  },
  {
   "cell_type": "code",
   "execution_count": 117,
   "metadata": {},
   "outputs": [
    {
     "output_type": "execute_result",
     "data": {
      "text/plain": "'netsrohT'"
     },
     "metadata": {},
     "execution_count": 117
    }
   ],
   "source": [
    "me"
   ]
  },
  {
   "cell_type": "code",
   "execution_count": 141,
   "metadata": {},
   "outputs": [],
   "source": [
    "booleans = [False, True]"
   ]
  },
  {
   "cell_type": "code",
   "execution_count": 119,
   "metadata": {},
   "outputs": [],
   "source": [
    "booleans = [False, True]"
   ]
  },
  {
   "cell_type": "code",
   "execution_count": 149,
   "metadata": {
    "tags": []
   },
   "outputs": [
    {
     "output_type": "stream",
     "name": "stdout",
     "text": "x \t| y\t| not (x and y)  \t  | (not x) or (not y)\t| .. == ..\nFalse \t| False\t| True  \t\t  | True\t\t| True\nFalse \t| True\t| True  \t\t  | False\t\t| False\nTrue \t| False\t| True  \t\t  | False\t\t| False\nTrue \t| True\t| False  \t\t  | False\t\t| False\n"
    }
   ],
   "source": [
    "print(\"{} \\t| {}\\t| {}  \\t  | {}\\t| {}\".format(\"x\", \"y\", \"not (x and y)\", \"(not x) or (not y)\", \".. == ..\"))\n",
    "for x in booleans:\n",
    "    for y in booleans:\n",
    "        print(\"{} \\t| {}\\t| {}  \\t\\t  | {}\\t\\t| {}\".format(x, y, not (x and y), (not x) and (not y), not(x and y) == (not x) and (not y)))\n"
   ]
  },
  {
   "cell_type": "code",
   "execution_count": 154,
   "metadata": {},
   "outputs": [],
   "source": [
    "def dm(b,c):\n",
    "    return not(b and c) == (not b) or (not c)"
   ]
  },
  {
   "cell_type": "code",
   "execution_count": 158,
   "metadata": {},
   "outputs": [],
   "source": [
    "def dmx(b,c):\n",
    "    return not(b and c) == (not b) and (not c)"
   ]
  },
  {
   "cell_type": "code",
   "execution_count": 171,
   "metadata": {},
   "outputs": [],
   "source": [
    "def isTautology(a):\n",
    "    for i in [True, False]:\n",
    "        for j in [True, False]:\n",
    "            if not a(i, j):\n",
    "                return False\n",
    "    return True"
   ]
  },
  {
   "cell_type": "code",
   "execution_count": 170,
   "metadata": {},
   "outputs": [
    {
     "output_type": "execute_result",
     "data": {
      "text/plain": "True"
     },
     "metadata": {},
     "execution_count": 170
    }
   ],
   "source": [
    "isTautology(dm)"
   ]
  },
  {
   "cell_type": "code",
   "execution_count": 172,
   "metadata": {
    "tags": []
   },
   "outputs": [
    {
     "output_type": "stream",
     "name": "stdout",
     "text": "Help on built-in function print in module builtins:\n\nprint(...)\n    print(value, ..., sep=' ', end='\\n', file=sys.stdout, flush=False)\n    \n    Prints the values to a stream, or to sys.stdout by default.\n    Optional keyword arguments:\n    file:  a file-like object (stream); defaults to the current sys.stdout.\n    sep:   string inserted between values, default a space.\n    end:   string appended after the last value, default a newline.\n    flush: whether to forcibly flush the stream.\n\n"
    }
   ],
   "source": [
    "help(print)"
   ]
  },
  {
   "cell_type": "code",
   "execution_count": 176,
   "metadata": {
    "tags": []
   },
   "outputs": [
    {
     "output_type": "stream",
     "name": "stdout",
     "text": "Help on method_descriptor:\n\nsort(self, /, *, key=None, reverse=False)\n    Stable sort *IN PLACE*.\n\n"
    }
   ],
   "source": [
    "help(list.sort)"
   ]
  },
  {
   "cell_type": "code",
   "execution_count": null,
   "metadata": {},
   "outputs": [],
   "source": []
  },
  {
   "cell_type": "code",
   "execution_count": 178,
   "metadata": {},
   "outputs": [],
   "source": [
    "import random"
   ]
  },
  {
   "cell_type": "code",
   "execution_count": 193,
   "metadata": {
    "tags": []
   },
   "outputs": [
    {
     "output_type": "stream",
     "name": "stdout",
     "text": "Psst... 71\nUnbelievable, you've guessed it!\n"
    }
   ],
   "source": [
    "minguess = 0\n",
    "maxguess = 100\n",
    "secret = random.randint(minguess, maxguess)\n",
    "print(\"Psst...\",secret)\n",
    "\n",
    "while True:\n",
    "    try:\n",
    "        guess = int(input(\"What number?\"))\n",
    "    except ValueError:\n",
    "        print(\"NaN\")\n",
    "        continue\n",
    "    if guess < minguess or guess > maxguess:\n",
    "        print(\"The number should be between {} and {}\".format(minguess, maxguess))\n",
    "        continue\n",
    "    if guess == secret:\n",
    "        print(\"Unbelievable, you've guessed it!\")\n",
    "        break\n",
    "    elif(guess < secret):\n",
    "        print(\"Try higher.\")\n",
    "    else:\n",
    "        print(\"Try lower.\")"
   ]
  },
  {
   "cell_type": "code",
   "execution_count": null,
   "metadata": {},
   "outputs": [],
   "source": []
  },
  {
   "cell_type": "code",
   "execution_count": 142,
   "metadata": {
    "tags": []
   },
   "outputs": [
    {
     "output_type": "stream",
     "name": "stdout",
     "text": "x \t| y\t| x and y\t| x or y \t| x == y\nFalse \t| False\t| False  \t| False  \t| True\nFalse \t| True\t| False  \t| True  \t| False\nTrue \t| False\t| False  \t| True  \t| False\nTrue \t| True\t| True  \t| True  \t| True\n"
    }
   ],
   "source": [
    "print(\"{} \\t| {}\\t| {}\\t| {} \\t| {}\".format(\"x\", \"y\", \"x and y\",\"x or y\", \"x == y\"))\n",
    "for x in booleans:\n",
    "    for y in booleans:\n",
    "        print(\"{} \\t| {}\\t| {}  \\t| {}  \\t| {}\".format(x, y, x and y,x or y, x == y))"
   ]
  },
  {
   "cell_type": "code",
   "execution_count": 11,
   "metadata": {
    "tags": []
   },
   "outputs": [
    {
     "output_type": "stream",
     "name": "stdout",
     "text": "0 1 1 2 3 5 8 13 21 34 55 89 144 233 377 610 987 \nA total of 17 numbers\n"
    }
   ],
   "source": [
    "def fibonacci(n):\n",
    "    a, b, i = 0, 1, 0\n",
    "    while a < n:\n",
    "        print(a, end=\" \")\n",
    "        a, b = b, a + b\n",
    "        i += 1\n",
    "    print(\"\\nA total of\", i, \"numbers\")\n",
    "\n",
    "fibonacci(1000)"
   ]
  },
  {
   "cell_type": "code",
   "execution_count": 3,
   "metadata": {
    "tags": []
   },
   "outputs": [
    {
     "output_type": "error",
     "ename": "SyntaxError",
     "evalue": "EOL while scanning string literal (<ipython-input-3-b69124a34b64>, line 4)",
     "traceback": [
      "\u001b[0;36m  File \u001b[0;32m\"<ipython-input-3-b69124a34b64>\"\u001b[0;36m, line \u001b[0;32m4\u001b[0m\n\u001b[0;31m    question = \"Is your number greater(>), equal(=) o {}s th {}!\".format(minNum, maxNum) \"question = f computeMid():\u001b[0m\n\u001b[0m                                                                                                                    ^\u001b[0m\n\u001b[0;31mSyntaxError\u001b[0m\u001b[0;31m:\u001b[0m EOL while scanning string literal\n"
     ]
    }
   ],
   "source": [
    "\n",
    "minNum = 0\n",
    "maxNum = 100\n",
    "mid = 0\n",
    "question = \"Is your number greater(>), equal(=) o {}s th {}!\".format(minNum, maxNum) \"question = f computeMid():\n",
    "    global mid, minNum, maxNum    \n",
    "     \" + str(mid) + \"nN\n",
    "print(question)m+maxNum) // 2\n",
    "\n",
    "computeMid()\n",
    "\n",
    "print(\"Think of a number between\", minNum, \"and\", maxNum)\n",
    "\n",
    "while True:\n",
    "    hint = input(question)\n",
    "    if hint == \"<\":\n",
    "        maxNum = mid - 1\n",
    "        computeMid()\n",
    "        continue\n",
    "    elif hint == \">\":\n",
    "        minNum = mid + 1\n",
    "        computeMid()\n",
    "        continue\n",
    "    elif hint == \"=\":\n",
    "        print(\"Hurray, I have guessed it!\")\n",
    "        break\n",
    "    else:\n",
    "        print (\"Please answer <, > or =!\")\n",
    "        continue\n"
   ]
  },
  {
   "cell_type": "code",
   "execution_count": null,
   "metadata": {},
   "outputs": [],
   "source": []
  },
  {
   "cell_type": "code",
   "execution_count": null,
   "metadata": {},
   "outputs": [],
   "source": []
  }
 ],
 "metadata": {
  "language_info": {
   "codemirror_mode": {
    "name": "ipython",
    "version": 3
   },
   "file_extension": ".py",
   "mimetype": "text/x-python",
   "name": "python",
   "nbconvert_exporter": "python",
   "pygments_lexer": "ipython3",
   "version": 3
  },
  "orig_nbformat": 2,
  "kernelspec": {
   "name": "python_defaultSpec_1599488827745",
   "display_name": "Python 3.7.8 64-bit"
  }
 },
 "nbformat": 4,
 "nbformat_minor": 2
}