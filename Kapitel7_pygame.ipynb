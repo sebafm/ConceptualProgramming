{
 "metadata": {
  "language_info": {
   "codemirror_mode": {
    "name": "ipython",
    "version": 3
   },
   "file_extension": ".py",
   "mimetype": "text/x-python",
   "name": "python",
   "nbconvert_exporter": "python",
   "pygments_lexer": "ipython3",
   "version": "3.8.4-final"
  },
  "orig_nbformat": 2,
  "kernelspec": {
   "name": "python_defaultSpec_1600870608291",
   "display_name": "Python 3.8.4 64-bit"
  }
 },
 "nbformat": 4,
 "nbformat_minor": 2,
 "cells": [
  {
   "cell_type": "code",
   "execution_count": 3,
   "metadata": {
    "tags": []
   },
   "outputs": [
    {
     "output_type": "execute_result",
     "data": {
      "text/plain": "(6, 0)"
     },
     "metadata": {},
     "execution_count": 3
    }
   ],
   "source": [
    "import pygame\n",
    "from pygame import init\n",
    "init()"
   ]
  },
  {
   "cell_type": "code",
   "execution_count": 10,
   "metadata": {},
   "outputs": [],
   "source": [
    "WIDTH = 800\n",
    "HEIGHT = 400\n",
    "COLOR = \"green\"\n",
    "BORDER_PX = 10\n",
    "BORDER_COLOR = \"black\"\n",
    "\n",
    "screen = pygame.display.set_mode((WIDTH, HEIGHT))\n",
    "screen.fill(pygame.Color(COLOR))\n",
    "pygame.draw.rect(screen, pygame.Color(BORDER_COLOR), pygame.Rect(0,0,WIDTH,BORDER_PX))\n",
    "pygame.draw.rect(screen, pygame.Color(BORDER_COLOR), pygame.Rect(0,0,BORDER_PX, HEIGHT))\n",
    "pygame.draw.rect(screen, pygame.Color(BORDER_COLOR), pygame.Rect(0, HEIGHT-BORDER_PX, WIDTH, BORDER_PX))\n",
    "\n",
    "pygame.display.flip()\n",
    "\n",
    "\n",
    "\n",
    "while True:\n",
    "    e = pygame.event.poll()\n",
    "    if e.type == pygame.QUIT:\n",
    "        break\n",
    "pygame.quit()"
   ]
  },
  {
   "cell_type": "code",
   "execution_count": null,
   "metadata": {},
   "outputs": [],
   "source": []
  }
 ]
}