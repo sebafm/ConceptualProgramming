{
 "metadata": {
  "language_info": {
   "codemirror_mode": {
    "name": "ipython",
    "version": 3
   },
   "file_extension": ".py",
   "mimetype": "text/x-python",
   "name": "python",
   "nbconvert_exporter": "python",
   "pygments_lexer": "ipython3",
   "version": "3.8.4-final"
  },
  "orig_nbformat": 2,
  "kernelspec": {
   "name": "Python 3.8.4 64-bit",
   "display_name": "Python 3.8.4 64-bit",
   "metadata": {
    "interpreter": {
     "hash": "e404b59586357c814bc0d3940e75d6763c00a48753b225b81f7716971b8e1741"
    }
   }
  }
 },
 "nbformat": 4,
 "nbformat_minor": 2,
 "cells": [
  {
   "cell_type": "code",
   "execution_count": 27,
   "metadata": {
    "tags": []
   },
   "outputs": [
    {
     "output_type": "execute_result",
     "data": {
      "text/plain": "(6, 0)"
     },
     "metadata": {},
     "execution_count": 27
    }
   ],
   "source": [
    "import pygame\n",
    "from pygame import init\n",
    "init()"
   ]
  },
  {
   "cell_type": "code",
   "execution_count": 28,
   "metadata": {},
   "outputs": [],
   "source": [
    "class Ball:\n",
    "    RADIUS = 10\n",
    "\n",
    "    def __init__(self, x, y, vx, vy):\n",
    "        self.x = x\n",
    "        self.y = y\n",
    "        self.vx = vx\n",
    "        self.vy = vy\n",
    "    \n",
    "    def show(self, color):\n",
    "    \n",
    "        global screen\n",
    "        pygame.draw.circle(screen, color, (self.x, self.y), self.RADIUS)\n",
    "    \n",
    "    def update(self):       \n",
    "        #change position:\n",
    "        newx = self.x + self.vx\n",
    "        newy = self.y + self.vy\n",
    "\n",
    "        #check for collision with border and if so, bounce back (invert velocity)\n",
    "        if newx - Ball.RADIUS < BORDER_PX: #or newx + Ball.RADIUS > (WIDTH + Ball.RADIUS):\n",
    "            self.vx = -self.vx\n",
    "        elif newy - Ball.RADIUS < BORDER_PX or newy + Ball.RADIUS > HEIGHT - BORDER_PX:\n",
    "            self.vy = -self.vy\n",
    "        else:\n",
    "            #hide (change the color to match the background):\n",
    "            self.show(pygame.Color(BG_COLOR))\n",
    "            self.x += self.vx\n",
    "            self.y += self.vy\n",
    "            #show(change back the color):\n",
    "            self.show(pygame.Color(BALL_COLOR))\n"
   ]
  },
  {
   "cell_type": "code",
   "execution_count": 29,
   "metadata": {},
   "outputs": [],
   "source": [
    "class Paddle:\n",
    "    WIDTH = 10\n",
    "    HEIGT = 80\n",
    "\n",
    "    def __init__(self, y):\n",
    "        self.y = y\n",
    "    \n",
    "    def show (self, colour):\n",
    "        global screen\n",
    "        pygame.draw.rect (screen, colour, pygame.Rect(WIDTH - self.WIDTH, self.y - self.HEIGT, self.WIDTH, self.HEIGT))\n",
    "\n",
    "    def update(self):\n",
    "        self.show(pygame.Color(\"black\"))\n",
    "        self.y = pygame.mouse.get_pos()[1]\n",
    "        self.show(pygame.Color(\"white\"))\n",
    "        "
   ]
  },
  {
   "cell_type": "code",
   "execution_count": 30,
   "metadata": {},
   "outputs": [],
   "source": [
    "WIDTH = 800\n",
    "HEIGHT = 400\n",
    "BORDER_PX = 10\n",
    "BG_COLOR = \"black\"\n",
    "BORDER_COLOR = \"green\"\n",
    "BALL_COLOR = \"white\"\n",
    "VELOCITY = 1\n",
    "\n",
    "screen = pygame.display.set_mode((WIDTH, HEIGHT))\n",
    "screen.fill(pygame.Color(BG_COLOR))\n",
    "pygame.draw.rect(screen, pygame.Color(BORDER_COLOR), pygame.Rect(0,0,WIDTH,BORDER_PX))\n",
    "pygame.draw.rect(screen, pygame.Color(BORDER_COLOR), pygame.Rect(0,0,BORDER_PX, HEIGHT))\n",
    "pygame.draw.rect(screen, pygame.Color(BORDER_COLOR), pygame.Rect(0, HEIGHT-BORDER_PX, WIDTH, BORDER_PX))\n",
    "\n",
    "ball = Ball(WIDTH - Ball.RADIUS, HEIGHT // 2, -VELOCITY, 0)\n",
    "ball.show(pygame.Color(BALL_COLOR))\n",
    "\n",
    "paddle = Paddle(HEIGHT//2)\n",
    "paddle.show(pygame.Color(\"white\"))\n",
    "\n",
    "pygame.display.flip()\n",
    "\n",
    "\n",
    "while True:\n",
    "    e = pygame.event.poll()\n",
    "    if e.type == pygame.QUIT:\n",
    "        break\n",
    "    ball.update()\n",
    "    paddle.update()\n",
    "    pygame.display.flip()\n",
    "pygame.quit()"
   ]
  }
 ]
}