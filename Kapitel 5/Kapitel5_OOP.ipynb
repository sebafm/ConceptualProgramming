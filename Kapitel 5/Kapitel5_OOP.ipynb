{
 "cells": [
  {
   "cell_type": "code",
   "execution_count": 80,
   "metadata": {},
   "outputs": [],
   "source": [
    "class Account:\n",
    "    limit = -1000\n",
    "\n",
    "    def __init__(self, owner, balance=0):\n",
    "        self.owner = owner\n",
    "        self.balance = balance\n",
    "    \n",
    "    def __str__(self):\n",
    "        return \"{} ('{}', {})\".format(self.__class__.__name__, self.owner, self.balance)\n",
    "\n",
    "    def withdraw(self, amount):\n",
    "        new_balance = self.balance - amount\n",
    "        if new_balance < self.limit:\n",
    "            return \"Sorry, over limit\"\n",
    "        else:\n",
    "            self.balance = new_balance\n",
    "    \n",
    "    def deposit(self, howmuch):\n",
    "        self.balance += howmuch\n",
    "    \n",
    "    def statement(self):\n",
    "        return \"Owner : {}, Amount : {}\".format(self.owner, self.balance)\n",
    "\n"
   ]
  },
  {
   "cell_type": "code",
   "execution_count": 81,
   "metadata": {},
   "outputs": [],
   "source": [
    "class SavingsAccount(Account):\n",
    "    interest_rate = 0.05\n",
    "\n",
    "    def add_interest(self):\n",
    "        self.deposit(self.balance * self.interest_rate)\n",
    "\n",
    "    def withdraw(self, howmuch):\n",
    "        new_balance = self.balance - howmuch\n",
    "        if new_balance < 0:\n",
    "            return \"Nicht genügend Guthaben.\"\n",
    "        else:\n",
    "            return super(__class__, self).withdraw(howmuch)"
   ]
  },
  {
   "cell_type": "code",
   "execution_count": 96,
   "metadata": {},
   "outputs": [],
   "source": [
    "mySave = SavingsAccount(\"Seba\", -100)"
   ]
  },
  {
   "cell_type": "code",
   "execution_count": 83,
   "metadata": {},
   "outputs": [],
   "source": [
    "mySave.add_interest()"
   ]
  },
  {
   "cell_type": "code",
   "execution_count": 84,
   "metadata": {},
   "outputs": [
    {
     "output_type": "execute_result",
     "data": {
      "text/plain": "-105.0"
     },
     "metadata": {},
     "execution_count": 84
    }
   ],
   "source": [
    "mySave.balance"
   ]
  },
  {
   "cell_type": "code",
   "execution_count": 85,
   "metadata": {},
   "outputs": [
    {
     "output_type": "execute_result",
     "data": {
      "text/plain": "__main__.SavingsAccount"
     },
     "metadata": {},
     "execution_count": 85
    }
   ],
   "source": [
    "type(mySave)"
   ]
  },
  {
   "cell_type": "code",
   "execution_count": 101,
   "metadata": {},
   "outputs": [
    {
     "output_type": "execute_result",
     "data": {
      "text/plain": "'Owner : Seba, Amount : 5'"
     },
     "metadata": {},
     "execution_count": 101
    }
   ],
   "source": [
    "mySave.statement()"
   ]
  },
  {
   "cell_type": "code",
   "execution_count": 94,
   "metadata": {
    "tags": []
   },
   "outputs": [
    {
     "output_type": "stream",
     "name": "stdout",
     "text": "SavingsAccount ('Seba', 100.0)\n"
    }
   ],
   "source": [
    "print(mySave)"
   ]
  },
  {
   "cell_type": "code",
   "execution_count": 98,
   "metadata": {},
   "outputs": [],
   "source": [
    "mySave.deposit(205)"
   ]
  },
  {
   "cell_type": "code",
   "execution_count": 100,
   "metadata": {},
   "outputs": [],
   "source": [
    "mySave.withdraw(100)"
   ]
  },
  {
   "cell_type": "code",
   "execution_count": 93,
   "metadata": {},
   "outputs": [
    {
     "output_type": "execute_result",
     "data": {
      "text/plain": "\"SavingsAccount ('Seba', 100.0)\""
     },
     "metadata": {},
     "execution_count": 93
    }
   ],
   "source": [
    "mySave.__str__()"
   ]
  },
  {
   "cell_type": "code",
   "execution_count": null,
   "metadata": {},
   "outputs": [],
   "source": []
  }
 ],
 "metadata": {
  "language_info": {
   "codemirror_mode": {
    "name": "ipython",
    "version": 3
   },
   "file_extension": ".py",
   "mimetype": "text/x-python",
   "name": "python",
   "nbconvert_exporter": "python",
   "pygments_lexer": "ipython3",
   "version": 3
  },
  "orig_nbformat": 2,
  "kernelspec": {
   "name": "python_defaultSpec_1599900597418",
   "display_name": "Python 3.8.2 64-bit"
  }
 },
 "nbformat": 4,
 "nbformat_minor": 2
}