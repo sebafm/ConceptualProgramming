{
 "cells": [
  {
   "cell_type": "code",
   "execution_count": 98,
   "metadata": {},
   "outputs": [],
   "source": [
    "grid = [[0,0,0,0,7,0,0,0,0],\n",
    "        [6,0,0,1,9,5,0,0,0],\n",
    "        [0,9,8,0,0,0,0,6,0],\n",
    "        [8,0,0,0,6,0,0,0,3],\n",
    "        [4,0,0,8,0,3,0,0,1],\n",
    "        [7,0,0,0,2,0,0,0,6],\n",
    "        [0,6,0,0,0,0,2,8,0],\n",
    "        [0,0,0,4,1,9,0,0,5],\n",
    "        [0,0,0,0,8,0,0,7,9]]"
   ]
  },
  {
   "cell_type": "code",
   "execution_count": 95,
   "metadata": {},
   "outputs": [],
   "source": [
    "def print_grid():\n",
    "    i = 0\n",
    "    j = 0\n",
    "    for line in grid:\n",
    "        if i % 3 == 0 and i != 0:\n",
    "            print(\"- - - - - - - - - - - -\")\n",
    "        for square in line:\n",
    "            if j % 3 == 0:\n",
    "                print(\"| \", end=\"\")\n",
    "            if square == 0:\n",
    "                print(\".\", end=\" \")\n",
    "            else:\n",
    "                print(square, end=\" \")\n",
    "            j += 1\n",
    "        print()\n",
    "        i += 1"
   ]
  },
  {
   "cell_type": "code",
   "execution_count": 96,
   "metadata": {
    "tags": []
   },
   "outputs": [
    {
     "output_type": "stream",
     "name": "stdout",
     "text": "| 5 3 . | . 7 . | . . . \n| 6 . . | 1 9 5 | . . . \n| . 9 8 | . . . | . 6 . \n- - - - - - - - - - - -\n| 8 . . | . 6 . | . . 3 \n| 4 . . | 8 . 3 | . . 1 \n| 7 . . | . 2 . | . . 6 \n- - - - - - - - - - - -\n| . 6 . | . . . | 2 8 . \n| . . . | 4 1 9 | . . 5 \n| . . . | . 8 . | . 7 9 \n"
    }
   ],
   "source": [
    "print_grid()"
   ]
  },
  {
   "cell_type": "code",
   "execution_count": 65,
   "metadata": {},
   "outputs": [],
   "source": [
    "def possible(y,x,n):\n",
    "    global grid\n",
    "    for i in range (0,9):\n",
    "        if grid[y][i] == n:\n",
    "            return False\n",
    "    for i in range (0,9):\n",
    "        if grid[i][x] == n:\n",
    "            return False\n",
    "    x0 = (x // 3) * 3\n",
    "    y0 = (y // 3) * 3\n",
    "    for i in range (0, 2):\n",
    "        for j in range (0, 2):\n",
    "            if grid [y0+i][x0+j] == n:\n",
    "                return False\n",
    "    return True\n",
    "\n"
   ]
  },
  {
   "cell_type": "code",
   "execution_count": 27,
   "metadata": {},
   "outputs": [
    {
     "output_type": "execute_result",
     "data": {
      "text/plain": "False"
     },
     "metadata": {},
     "execution_count": 27
    }
   ],
   "source": [
    "possible(2, 3, 7)"
   ]
  },
  {
   "cell_type": "code",
   "execution_count": 102,
   "metadata": {},
   "outputs": [],
   "source": [
    "def solve():\n",
    "    global grid\n",
    "    for y in range(0,9):\n",
    "        for x in range (0,9):\n",
    "            if grid[y][x] == 0:\n",
    "                for n in range (1,10):\n",
    "                    if possible(y, x, n):\n",
    "                        grid[y][x] = n\n",
    "                        solve()\n",
    "                        grid[y][x] = 0\n",
    "                return\n",
    "    print_grid()\n",
    "    print(\"\\n\")\n",
    "    input(\"More?\")"
   ]
  },
  {
   "cell_type": "code",
   "execution_count": 103,
   "metadata": {
    "tags": []
   },
   "outputs": [
    {
     "output_type": "stream",
     "name": "stdout",
     "text": "| 3 4 5 | 6 7 8 | 9 1 2 \n| 6 7 2 | 1 9 5 | 3 4 8 \n| 1 9 8 | 3 4 2 | 5 6 7 \n- - - - - - - - - - - -\n| 8 5 9 | 7 6 1 | 4 2 3 \n| 4 2 6 | 8 5 3 | 7 9 1 \n| 7 1 3 | 9 2 4 | 8 5 6 \n- - - - - - - - - - - -\n| 9 6 1 | 5 3 7 | 2 8 4 \n| 2 8 7 | 4 1 9 | 6 3 5 \n| 5 3 4 | 2 8 6 | 1 7 9 \n\n\n| 5 3 4 | 6 7 8 | 9 1 2 \n| 6 7 2 | 1 9 5 | 3 4 8 \n| 1 9 8 | 3 4 2 | 5 6 7 \n- - - - - - - - - - - -\n| 8 5 9 | 7 6 1 | 4 2 3 \n| 4 2 6 | 8 5 3 | 7 9 1 \n| 7 1 3 | 9 2 4 | 8 5 6 \n- - - - - - - - - - - -\n| 9 6 1 | 5 3 7 | 2 8 4 \n| 2 8 7 | 4 1 9 | 6 3 5 \n| 3 4 5 | 2 8 6 | 1 7 9 \n\n\n"
    }
   ],
   "source": [
    "solve()"
   ]
  },
  {
   "cell_type": "code",
   "execution_count": 110,
   "metadata": {},
   "outputs": [],
   "source": [
    "def fib(n):\n",
    "    if n < 2:\n",
    "        return 1\n",
    "    elif n < 1:\n",
    "        return 0\n",
    "    else:\n",
    "        print(n,end=\" \")\n",
    "        return fib(n-1)+fib(n-2)"
   ]
  },
  {
   "cell_type": "code",
   "execution_count": 112,
   "metadata": {
    "tags": []
   },
   "outputs": [
    {
     "output_type": "stream",
     "name": "stdout",
     "text": "10 9 8 7 6 5 4 3 2 2 3 2 4 3 2 2 5 4 3 2 2 3 2 6 5 4 3 2 2 3 2 4 3 2 2 7 6 5 4 3 2 2 3 2 4 3 2 2 5 4 3 2 2 3 2 8 7 6 5 4 3 2 2 3 2 4 3 2 2 5 4 3 2 2 3 2 6 5 4 3 2 2 3 2 4 3 2 2"
    },
    {
     "output_type": "execute_result",
     "data": {
      "text/plain": "89"
     },
     "metadata": {},
     "execution_count": 112
    }
   ],
   "source": [
    "fib(10)"
   ]
  },
  {
   "cell_type": "code",
   "execution_count": 113,
   "metadata": {},
   "outputs": [],
   "source": [
    "def f0(x):\n",
    "    if x == 0:\n",
    "        return 0\n",
    "    else:\n",
    "        return 1 + f0(x-1)"
   ]
  },
  {
   "cell_type": "code",
   "execution_count": 114,
   "metadata": {},
   "outputs": [
    {
     "output_type": "execute_result",
     "data": {
      "text/plain": "4"
     },
     "metadata": {},
     "execution_count": 114
    }
   ],
   "source": [
    "f0(4)"
   ]
  },
  {
   "cell_type": "code",
   "execution_count": 155,
   "metadata": {},
   "outputs": [],
   "source": [
    "def f3(x):\n",
    "    if x == 0:\n",
    "        return 1\n",
    "    else:\n",
    "        return f3(x-1) + f3(x-1)"
   ]
  },
  {
   "cell_type": "code",
   "execution_count": 156,
   "metadata": {},
   "outputs": [
    {
     "output_type": "execute_result",
     "data": {
      "text/plain": "16"
     },
     "metadata": {},
     "execution_count": 156
    }
   ],
   "source": [
    "f3(4)"
   ]
  },
  {
   "cell_type": "code",
   "execution_count": 161,
   "metadata": {},
   "outputs": [],
   "source": [
    "def turnaround(x):\n",
    "    #res = \"\"\n",
    "    if len(x)<2:\n",
    "        return x\n",
    "    else:\n",
    "        return [x[-1]] + turnaround(x[1:-1]) + [x[0]]\n"
   ]
  },
  {
   "cell_type": "code",
   "execution_count": 172,
   "metadata": {},
   "outputs": [
    {
     "output_type": "execute_result",
     "data": {
      "text/plain": "[4, 3, 2, 1]"
     },
     "metadata": {},
     "execution_count": 172
    }
   ],
   "source": [
    "turnaround([1,2,3,4])"
   ]
  },
  {
   "cell_type": "code",
   "execution_count": null,
   "metadata": {},
   "outputs": [],
   "source": []
  }
 ],
 "metadata": {
  "language_info": {
   "codemirror_mode": {
    "name": "ipython",
    "version": 3
   },
   "file_extension": ".py",
   "mimetype": "text/x-python",
   "name": "python",
   "nbconvert_exporter": "python",
   "pygments_lexer": "ipython3",
   "version": 3
  },
  "orig_nbformat": 2,
  "kernelspec": {
   "name": "python_defaultSpec_1599551942337",
   "display_name": "Python 3.8.2 64-bit"
  }
 },
 "nbformat": 4,
 "nbformat_minor": 2
}