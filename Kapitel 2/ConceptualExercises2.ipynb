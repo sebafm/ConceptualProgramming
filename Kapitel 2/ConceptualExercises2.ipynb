{
 "metadata": {
  "language_info": {
   "codemirror_mode": {
    "name": "ipython",
    "version": 3
   },
   "file_extension": ".py",
   "mimetype": "text/x-python",
   "name": "python",
   "nbconvert_exporter": "python",
   "pygments_lexer": "ipython3",
   "version": "3.8.5-final"
  },
  "orig_nbformat": 2,
  "kernelspec": {
   "name": "python_defaultSpec_1599721656158",
   "display_name": "Python 3.8.5 32-bit"
  }
 },
 "nbformat": 4,
 "nbformat_minor": 2,
 "cells": [
  {
   "cell_type": "code",
   "execution_count": 28,
   "metadata": {},
   "outputs": [],
   "source": [
    "def rotateR (x):\n",
    "    return x[-1:]+x[:-1]"
   ]
  },
  {
   "cell_type": "code",
   "execution_count": 22,
   "metadata": {},
   "outputs": [
    {
     "output_type": "execute_result",
     "data": {
      "text/plain": "'rTho'"
     },
     "metadata": {},
     "execution_count": 22
    }
   ],
   "source": [
    "rotateR(\"Thor\")"
   ]
  },
  {
   "cell_type": "code",
   "execution_count": 17,
   "metadata": {},
   "outputs": [],
   "source": [
    "def rotateL (x):\n",
    "    return x[1:]+x[0:1]"
   ]
  },
  {
   "cell_type": "code",
   "execution_count": 18,
   "metadata": {},
   "outputs": [
    {
     "output_type": "execute_result",
     "data": {
      "text/plain": "[2, 3, 4, 1]"
     },
     "metadata": {},
     "execution_count": 18
    }
   ],
   "source": [
    "rotateL([1, 2, 3, 4])"
   ]
  },
  {
   "cell_type": "code",
   "execution_count": 19,
   "metadata": {},
   "outputs": [
    {
     "output_type": "execute_result",
     "data": {
      "text/plain": "'horT'"
     },
     "metadata": {},
     "execution_count": 19
    }
   ],
   "source": [
    "rotateL('Thor')"
   ]
  },
  {
   "cell_type": "code",
   "execution_count": 23,
   "metadata": {},
   "outputs": [
    {
     "output_type": "execute_result",
     "data": {
      "text/plain": "'rTho'"
     },
     "metadata": {},
     "execution_count": 23
    }
   ],
   "source": [
    "rotateR('Thor')"
   ]
  },
  {
   "cell_type": "code",
   "execution_count": 24,
   "metadata": {},
   "outputs": [
    {
     "output_type": "execute_result",
     "data": {
      "text/plain": "2"
     },
     "metadata": {},
     "execution_count": 24
    }
   ],
   "source": [
    "1+1"
   ]
  },
  {
   "cell_type": "code",
   "execution_count": 25,
   "metadata": {},
   "outputs": [
    {
     "output_type": "execute_result",
     "data": {
      "text/plain": "[2, 3, 1]"
     },
     "metadata": {},
     "execution_count": 25
    }
   ],
   "source": [
    "rotateL([1,2,3])"
   ]
  },
  {
   "cell_type": "code",
   "execution_count": 29,
   "metadata": {},
   "outputs": [
    {
     "output_type": "execute_result",
     "data": {
      "text/plain": "[4, 1, 2, 3]"
     },
     "metadata": {},
     "execution_count": 29
    }
   ],
   "source": [
    "rotateR([1,2,3,4])"
   ]
  },
  {
   "cell_type": "code",
   "execution_count": 109,
   "metadata": {},
   "outputs": [],
   "source": [
    "def rotateRx(x):\n",
    "    foo = x[:]\n",
    "    for i in range(len(x)):\n",
    "        foo[i] = x[i-1]\n",
    "    x[:] = foo\n"
   ]
  },
  {
   "cell_type": "code",
   "execution_count": 110,
   "metadata": {},
   "outputs": [],
   "source": [
    "l = [1,2,3,4]"
   ]
  },
  {
   "cell_type": "code",
   "execution_count": 111,
   "metadata": {},
   "outputs": [
    {
     "output_type": "execute_result",
     "data": {
      "text/plain": "[4, 1, 2, 3]"
     },
     "metadata": {},
     "execution_count": 111
    }
   ],
   "source": [
    "rotateRx(l)\n",
    "l"
   ]
  },
  {
   "cell_type": "code",
   "execution_count": 112,
   "metadata": {},
   "outputs": [
    {
     "output_type": "execute_result",
     "data": {
      "text/plain": "'rTho'"
     },
     "metadata": {},
     "execution_count": 112
    }
   ],
   "source": [
    "def swapR(x):\n",
    "    return (x[-1] + x[0:-1])\n",
    "swapR('Thor')"
   ]
  },
  {
   "cell_type": "code",
   "execution_count": 113,
   "metadata": {},
   "outputs": [],
   "source": [
    "def rotateMe():\n",
    "    global me\n",
    "    me = swapR(me)"
   ]
  },
  {
   "cell_type": "code",
   "execution_count": 119,
   "metadata": {},
   "outputs": [
    {
     "output_type": "execute_result",
     "data": {
      "text/plain": "'rTho'"
     },
     "metadata": {},
     "execution_count": 119
    }
   ],
   "source": [
    "me = 'Thor'\n",
    "rotateMe()\n",
    "me"
   ]
  },
  {
   "cell_type": "code",
   "execution_count": 120,
   "metadata": {},
   "outputs": [
    {
     "output_type": "execute_result",
     "data": {
      "text/plain": "'orTh'"
     },
     "metadata": {},
     "execution_count": 120
    }
   ],
   "source": [
    "rotateR(me)"
   ]
  },
  {
   "cell_type": "code",
   "execution_count": 123,
   "metadata": {},
   "outputs": [
    {
     "output_type": "execute_result",
     "data": {
      "text/plain": "'Thor'"
     },
     "metadata": {},
     "execution_count": 123
    }
   ],
   "source": [
    "def rotateR2(x):\n",
    "    x = rotateR(x)\n",
    "    x = rotateR(x)\n",
    "    return x\n",
    "\n",
    "me = 'Thor'\n",
    "me"
   ]
  },
  {
   "cell_type": "code",
   "execution_count": 124,
   "metadata": {},
   "outputs": [
    {
     "output_type": "execute_result",
     "data": {
      "text/plain": "'orTh'"
     },
     "metadata": {},
     "execution_count": 124
    }
   ],
   "source": [
    "rotateR2(me)"
   ]
  },
  {
   "cell_type": "code",
   "execution_count": 125,
   "metadata": {},
   "outputs": [
    {
     "output_type": "execute_result",
     "data": {
      "text/plain": "[4, 1, 2, 3]"
     },
     "metadata": {},
     "execution_count": 125
    }
   ],
   "source": [
    "l"
   ]
  },
  {
   "cell_type": "code",
   "execution_count": 139,
   "metadata": {},
   "outputs": [],
   "source": [
    "l = [1,2,3,4]"
   ]
  },
  {
   "cell_type": "code",
   "execution_count": 132,
   "metadata": {},
   "outputs": [],
   "source": [
    "def rotateRx2(lst, x):\n",
    "    global foo\n",
    "    for i in range(x):\n",
    "        foo = rotateRx(lst)\n"
   ]
  },
  {
   "cell_type": "code",
   "execution_count": 142,
   "metadata": {},
   "outputs": [],
   "source": [
    "rotateRx2(l, 2)"
   ]
  },
  {
   "cell_type": "code",
   "execution_count": 143,
   "metadata": {},
   "outputs": [
    {
     "output_type": "execute_result",
     "data": {
      "text/plain": "[3, 4, 1, 2]"
     },
     "metadata": {},
     "execution_count": 143
    }
   ],
   "source": [
    "l"
   ]
  },
  {
   "cell_type": "code",
   "execution_count": 144,
   "metadata": {},
   "outputs": [],
   "source": [
    "l = [[1,2,3], [1,2,3]]"
   ]
  },
  {
   "cell_type": "code",
   "execution_count": 146,
   "metadata": {},
   "outputs": [],
   "source": [
    "li = [1,2,3]"
   ]
  },
  {
   "cell_type": "code",
   "execution_count": 147,
   "metadata": {},
   "outputs": [],
   "source": [
    "l = [li, li]"
   ]
  },
  {
   "cell_type": "code",
   "execution_count": 148,
   "metadata": {},
   "outputs": [
    {
     "output_type": "execute_result",
     "data": {
      "text/plain": "[[1, 2, 3], [1, 2, 3]]"
     },
     "metadata": {},
     "execution_count": 148
    }
   ],
   "source": [
    "l"
   ]
  },
  {
   "cell_type": "code",
   "execution_count": 149,
   "metadata": {},
   "outputs": [],
   "source": [
    "rotateRx(l[1])"
   ]
  },
  {
   "cell_type": "code",
   "execution_count": 150,
   "metadata": {},
   "outputs": [
    {
     "output_type": "execute_result",
     "data": {
      "text/plain": "[[3, 1, 2], [3, 1, 2]]"
     },
     "metadata": {},
     "execution_count": 150
    }
   ],
   "source": [
    "l"
   ]
  },
  {
   "cell_type": "code",
   "execution_count": 169,
   "metadata": {},
   "outputs": [],
   "source": [
    "def rotateCompletely (x):\n",
    "    if len(x) == 0 or len(x) == 1:\n",
    "        return x\n",
    "    else:\n",
    "        x[0], x[-1] = x[-1], x[0]\n",
    "        return rotateCompletely (x[1:-1])"
   ]
  },
  {
   "cell_type": "code",
   "execution_count": 178,
   "metadata": {},
   "outputs": [],
   "source": [
    "def rotate180(x):\n",
    "    rotated = \"\"\n",
    "    if len(x) < 2:\n",
    "        return x\n",
    "    else:\n",
    "        rotated = x[-1] + rotate180(x[1:-1]) + x[0]\n",
    "        return rotated"
   ]
  },
  {
   "cell_type": "code",
   "execution_count": 179,
   "metadata": {},
   "outputs": [
    {
     "output_type": "execute_result",
     "data": {
      "text/plain": "\"!tffahcseg s'bah hci ,uuhuY\""
     },
     "metadata": {},
     "execution_count": 179
    }
   ],
   "source": [
    "rotate180(\"Yuhuu, ich hab's geschafft!\")"
   ]
  },
  {
   "cell_type": "code",
   "execution_count": 13,
   "metadata": {},
   "outputs": [],
   "source": [
    "def fibonacciRecursive(n):\n",
    "    #print(\"Function fibonacciRecursive(n) has been called with n = {}\".format(n))\n",
    "    if n == 0:\n",
    "        return 0\n",
    "    elif n == 1:\n",
    "        return 1\n",
    "    else:\n",
    "        res = fibonacciRecursive(n-1) + fibonacciRecursive(n-2)\n",
    "        #print(res, end=\" \")\n",
    "        return res\n"
   ]
  },
  {
   "cell_type": "code",
   "execution_count": 19,
   "metadata": {
    "tags": []
   },
   "outputs": [
    {
     "output_type": "execute_result",
     "data": {
      "text/plain": "13"
     },
     "metadata": {},
     "execution_count": 19
    }
   ],
   "source": [
    "fibonacciRecursive(7)"
   ]
  },
  {
   "cell_type": "code",
   "execution_count": null,
   "metadata": {},
   "outputs": [],
   "source": []
  }
 ]
}