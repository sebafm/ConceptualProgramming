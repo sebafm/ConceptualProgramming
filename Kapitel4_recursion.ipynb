{
 "cells": [
  {
   "cell_type": "code",
   "execution_count": 21,
   "metadata": {},
   "outputs": [],
   "source": [
    "def move(f,t):\n",
    "    print(\"Move disk from {} to {}!\".format(f, t))\n",
    "\n",
    "def hanoi(n, f, h, t):\n",
    "    #print(\"{}n={},f={},h={},t={}\".format(\" \"*(4-n),n,f,h,t))\n",
    "    if n == 0:\n",
    "        return\n",
    "    else:\n",
    "        hanoi(n-1, f, t, h) #move the smaller stack from A via C to B\n",
    "        move(f,t) #move the left over piece directly from A to C\n",
    "        hanoi(n-1, h, t, f) # move the smaller stack from B via A to C"
   ]
  },
  {
   "cell_type": "code",
   "execution_count": 53,
   "metadata": {},
   "outputs": [],
   "source": [
    "def fac(n):\n",
    "    #print(\"{}n={}\".format(\" \"*n, n))\n",
    "    if n == 0:\n",
    "        return 1\n",
    "    else:\n",
    "        return n * fac(n-1)"
   ]
  },
  {
   "cell_type": "code",
   "execution_count": 47,
   "metadata": {},
   "outputs": [],
   "source": [
    "def facLoop(n):\n",
    "    x = 1\n",
    "    for i in range (1, n+1):\n",
    "        x = x * i\n",
    "    return x"
   ]
  },
  {
   "cell_type": "code",
   "execution_count": 87,
   "metadata": {},
   "outputs": [],
   "source": [
    "def binom(n, m):\n",
    "    if m < 1:\n",
    "        return 1\n",
    "    elif n < 1:\n",
    "        return 0\n",
    "    elif n == m:\n",
    "        return 1\n",
    "    elif n < m:\n",
    "        return 0\n",
    "    else:\n",
    "        return binom(n-1, m) + binom(n-1, m-1)"
   ]
  },
  {
   "cell_type": "code",
   "execution_count": 93,
   "metadata": {},
   "outputs": [
    {
     "output_type": "execute_result",
     "data": {
      "text/plain": "13983816"
     },
     "metadata": {},
     "execution_count": 93
    }
   ],
   "source": [
    "binom(49, 6)"
   ]
  },
  {
   "cell_type": "code",
   "execution_count": 70,
   "metadata": {},
   "outputs": [],
   "source": [
    "def binomFac(n,m):\n",
    "    return fac(n) // (fac(n-m)*fac(m))"
   ]
  },
  {
   "cell_type": "code",
   "execution_count": 13,
   "metadata": {},
   "outputs": [],
   "source": [
    "memo = {0:0, 1:1}\n",
    "def fibm(n):\n",
    "    global memo\n",
    "    if not n in memo:\n",
    "        memo[n] = fibonacciRec(n-1) + fibonacciRec(n-2)\n",
    "    return memo[n]\n",
    "    "
   ]
  },
  {
   "cell_type": "code",
   "execution_count": 18,
   "metadata": {},
   "outputs": [],
   "source": [
    "def fibonacciRec(n):\n",
    "    if n < 2:\n",
    "        return n\n",
    "    else:\n",
    "        for i in memo:\n",
    "            print(memo[i], end=\" \")\n",
    "        return fibm(n)"
   ]
  },
  {
   "cell_type": "code",
   "execution_count": 20,
   "metadata": {},
   "outputs": [],
   "source": [
    "def fibonacciIter(n):\n",
    "    a, b = 0, 1\n",
    "    for i in range(n):\n",
    "        # print(a, end=\" \")\n",
    "        a, b = b, a+b\n",
    "    return a"
   ]
  },
  {
   "cell_type": "code",
   "execution_count": 21,
   "metadata": {
    "tags": []
   },
   "outputs": [
    {
     "output_type": "execute_result",
     "data": {
      "text/plain": "55"
     },
     "metadata": {},
     "execution_count": 21
    }
   ],
   "source": [
    "fibonacciIter(10)"
   ]
  },
  {
   "cell_type": "code",
   "execution_count": 22,
   "metadata": {
    "tags": []
   },
   "outputs": [
    {
     "output_type": "stream",
     "name": "stdout",
     "text": "0 1 1 2 3 5 8 13 21 34 55"
    },
    {
     "output_type": "execute_result",
     "data": {
      "text/plain": "55"
     },
     "metadata": {},
     "execution_count": 22
    }
   ],
   "source": [
    "fibonacciRec(10)"
   ]
  },
  {
   "cell_type": "code",
   "execution_count": 14,
   "metadata": {},
   "outputs": [
    {
     "output_type": "execute_result",
     "data": {
      "text/plain": "{0: 0, 1: 1}"
     },
     "metadata": {},
     "execution_count": 14
    }
   ],
   "source": [
    "memo"
   ]
  },
  {
   "cell_type": "code",
   "execution_count": 17,
   "metadata": {
    "tags": []
   },
   "outputs": [
    {
     "output_type": "stream",
     "name": "stdout",
     "text": "0 1 1 2 3 5 8 13 21 34 55"
    }
   ],
   "source": [
    "for i in memo:\n",
    "    print(memo[i], end=\" \")"
   ]
  },
  {
   "cell_type": "code",
   "execution_count": null,
   "metadata": {},
   "outputs": [],
   "source": []
  }
 ],
 "metadata": {
  "language_info": {
   "codemirror_mode": {
    "name": "ipython",
    "version": 3
   },
   "file_extension": ".py",
   "mimetype": "text/x-python",
   "name": "python",
   "nbconvert_exporter": "python",
   "pygments_lexer": "ipython3",
   "version": 3
  },
  "orig_nbformat": 2,
  "kernelspec": {
   "name": "python_defaultSpec_1599899812060",
   "display_name": "Python 3.8.2 64-bit"
  }
 },
 "nbformat": 4,
 "nbformat_minor": 2
}